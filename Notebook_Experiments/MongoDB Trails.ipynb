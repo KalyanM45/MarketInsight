{
 "cells": [
  {
   "cell_type": "markdown",
   "metadata": {
    "vscode": {
     "languageId": "plaintext"
    }
   },
   "source": [
    "# Write Data"
   ]
  },
  {
   "cell_type": "markdown",
   "metadata": {},
   "source": [
    "### 1.1 Insert Data"
   ]
  },
  {
   "cell_type": "raw",
   "metadata": {},
   "source": [
    "# 1. insert_one():\n",
    "sample_restaurants.restaurants.insert_one({\"name\" : \"Mongo's Burgers\"})"
   ]
  },
  {
   "cell_type": "raw",
   "metadata": {},
   "source": [
    "# 2. insert_many():\n",
    "document_list = [{ \"name\" : \"Mongo's Burgers\" }, { \"name\" : \"Mongo's Pizza\" }]\n",
    "sample_restaurants.restaurants.insert_many(document_list)"
   ]
  },
  {
   "cell_type": "markdown",
   "metadata": {},
   "source": [
    "### 1.2Update Data: [Query Operators Link](https://www.mongodb.com/docs/manual/reference/operator/query/#std-label-query-projection-operators-top)"
   ]
  },
  {
   "cell_type": "raw",
   "metadata": {},
   "source": [
    "# update_one(): updates the first document that matches the search criteria\n",
    "\n",
    "query_filter = {'name' : 'Bagels N Buns'}\n",
    "\n",
    "update_operation = { '$set' : { 'name' : '2 Bagels 2 Buns' }}\n",
    "\n",
    "result = restaurants.update_one(query_filter, update_operation)"
   ]
  },
  {
   "cell_type": "raw",
   "metadata": {},
   "source": [
    "# update_many(): updates all documents that match the search criteria\n",
    "\n",
    "query_filter = {'cuisine' : 'Pizza'}\n",
    "\n",
    "update_operation = { '$set' : { 'cuisine' : 'Pasta' }}\n",
    "\n",
    "result = restaurants.update_many(query_filter, update_operation)"
   ]
  },
  {
   "cell_type": "markdown",
   "metadata": {},
   "source": [
    "* update_one() and update_many() methods each return an UpdateResult object."
   ]
  },
  {
   "cell_type": "code",
   "execution_count": null,
   "metadata": {},
   "outputs": [],
   "source": []
  }
 ],
 "metadata": {
  "kernelspec": {
   "display_name": "Python 3 (ipykernel)",
   "language": "python",
   "name": "python3"
  },
  "language_info": {
   "codemirror_mode": {
    "name": "ipython",
    "version": 3
   },
   "file_extension": ".py",
   "mimetype": "text/x-python",
   "name": "python",
   "nbconvert_exporter": "python",
   "pygments_lexer": "ipython3",
   "version": "3.12.4"
  }
 },
 "nbformat": 4,
 "nbformat_minor": 4
}
